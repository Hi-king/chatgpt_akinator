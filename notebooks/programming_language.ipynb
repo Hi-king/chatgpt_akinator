{
 "cells": [
  {
   "cell_type": "markdown",
   "metadata": {},
   "source": [
    "# プログラミング言語でアキネイター"
   ]
  },
  {
   "cell_type": "code",
   "execution_count": 158,
   "metadata": {},
   "outputs": [],
   "source": [
    "import requests\n",
    "from bs4 import BeautifulSoup\n",
    "import json\n",
    "import pathlib\n",
    "import dotenv\n",
    "import copy\n",
    "from matplotlib import pyplot\n",
    "import seaborn as sns\n",
    "import japanize_matplotlib\n",
    "import sklearn.tree\n",
    "from joblib import delayed, Parallel\n",
    "import pandas as pd\n",
    "import io\n",
    "from tqdm.auto import tqdm"
   ]
  },
  {
   "cell_type": "code",
   "execution_count": 155,
   "metadata": {},
   "outputs": [
    {
     "data": {
      "text/plain": [
       "True"
      ]
     },
     "execution_count": 155,
     "metadata": {},
     "output_type": "execute_result"
    }
   ],
   "source": [
    "dotenv.load_dotenv() # OPENAI_API_KEY"
   ]
  },
  {
   "cell_type": "markdown",
   "metadata": {},
   "source": [
    "## データダウンロード"
   ]
  },
  {
   "cell_type": "code",
   "execution_count": 3,
   "metadata": {},
   "outputs": [],
   "source": [
    "rootpath = pathlib.Path('../data') / 'programming_languages'\n",
    "datapath = rootpath / 'source'\n",
    "datapath.mkdir(parents=True, exist_ok=True)"
   ]
  },
  {
   "cell_type": "code",
   "execution_count": 4,
   "metadata": {},
   "outputs": [],
   "source": [
    "response = requests.get('https://ja.wikipedia.org/wiki/プログラミング言語一覧')"
   ]
  },
  {
   "cell_type": "code",
   "execution_count": 5,
   "metadata": {},
   "outputs": [],
   "source": [
    "soup = BeautifulSoup(response.content)"
   ]
  },
  {
   "cell_type": "code",
   "execution_count": 11,
   "metadata": {},
   "outputs": [],
   "source": [
    "headlines = soup.find_all(class_=\"mw-headline\")"
   ]
  },
  {
   "cell_type": "code",
   "execution_count": 16,
   "metadata": {},
   "outputs": [
    {
     "data": {
      "text/plain": [
       "[]"
      ]
     },
     "execution_count": 16,
     "metadata": {},
     "output_type": "execute_result"
    }
   ],
   "source": [
    "anchor.find"
   ]
  },
  {
   "cell_type": "code",
   "execution_count": 60,
   "metadata": {},
   "outputs": [
    {
     "data": {
      "text/plain": [
       "'\\n'"
      ]
     },
     "execution_count": 60,
     "metadata": {},
     "output_type": "execute_result"
    }
   ],
   "source": [
    "anchor.nextSibling"
   ]
  },
  {
   "cell_type": "code",
   "execution_count": 65,
   "metadata": {},
   "outputs": [
    {
     "data": {
      "text/plain": [
       "<h2><span id=\".E3.81.8B.E8.A1.8C\"></span><span class=\"mw-headline\" id=\"か行\">か行</span><span class=\"mw-editsection\"><span class=\"mw-editsection-bracket\">[</span><a href=\"/w/index.php?title=%E3%83%97%E3%83%AD%E3%82%B0%E3%83%A9%E3%83%9F%E3%83%B3%E3%82%B0%E8%A8%80%E8%AA%9E%E4%B8%80%E8%A6%A7&amp;action=edit&amp;section=28\" title=\"節を編集: か行\">編集</a><span class=\"mw-editsection-bracket\">]</span></span></h2>"
      ]
     },
     "execution_count": 65,
     "metadata": {},
     "output_type": "execute_result"
    }
   ],
   "source": [
    "headlines[-10].parent"
   ]
  },
  {
   "cell_type": "code",
   "execution_count": 64,
   "metadata": {},
   "outputs": [
    {
     "data": {
      "text/plain": [
       "<h2><span id=\".E3.81.95.E8.A1.8C\"></span><span class=\"mw-headline\" id=\"さ行\">さ行</span><span class=\"mw-editsection\"><span class=\"mw-editsection-bracket\">[</span><a href=\"/w/index.php?title=%E3%83%97%E3%83%AD%E3%82%B0%E3%83%A9%E3%83%9F%E3%83%B3%E3%82%B0%E8%A8%80%E8%AA%9E%E4%B8%80%E8%A6%A7&amp;action=edit&amp;section=29\" title=\"節を編集: さ行\">編集</a><span class=\"mw-editsection-bracket\">]</span></span></h2>"
      ]
     },
     "execution_count": 64,
     "metadata": {},
     "output_type": "execute_result"
    }
   ],
   "source": [
    "headlines[-10].parent.findNextSibling(\"h2\")"
   ]
  },
  {
   "cell_type": "code",
   "execution_count": 63,
   "metadata": {},
   "outputs": [
    {
     "data": {
      "text/plain": [
       "<h2><span id=\".E3.81.8B.E8.A1.8C\"></span><span class=\"mw-headline\" id=\"か行\">か行</span><span class=\"mw-editsection\"><span class=\"mw-editsection-bracket\">[</span><a href=\"/w/index.php?title=%E3%83%97%E3%83%AD%E3%82%B0%E3%83%A9%E3%83%9F%E3%83%B3%E3%82%B0%E8%A8%80%E8%AA%9E%E4%B8%80%E8%A6%A7&amp;action=edit&amp;section=28\" title=\"節を編集: か行\">編集</a><span class=\"mw-editsection-bracket\">]</span></span></h2>"
      ]
     },
     "execution_count": 63,
     "metadata": {},
     "output_type": "execute_result"
    }
   ],
   "source": [
    "headlines[-10].parent"
   ]
  },
  {
   "cell_type": "code",
   "execution_count": 50,
   "metadata": {},
   "outputs": [
    {
     "data": {
      "text/plain": [
       "<span id=\".E3.82.8F.E8.A1.8C\"></span>"
      ]
     },
     "execution_count": 50,
     "metadata": {},
     "output_type": "execute_result"
    }
   ],
   "source": [
    "headlines[-2].parent.next"
   ]
  },
  {
   "cell_type": "code",
   "execution_count": 73,
   "metadata": {},
   "outputs": [],
   "source": [
    "headlines[0].get(\"tag\")"
   ]
  },
  {
   "cell_type": "code",
   "execution_count": 74,
   "metadata": {},
   "outputs": [
    {
     "data": {
      "text/plain": [
       "'ul'"
      ]
     },
     "execution_count": 74,
     "metadata": {},
     "output_type": "execute_result"
    }
   ],
   "source": [
    "anchor.name"
   ]
  },
  {
   "cell_type": "code",
   "execution_count": 84,
   "metadata": {},
   "outputs": [
    {
     "name": "stdout",
     "output_type": "stream",
     "text": [
      "\n",
      "\n",
      "<h2><span id=\".E9.96.A2.E9.80.A3.E9.A0.85.E7.9B.AE\"></span><span class=\"mw-headline\" id=\"関連項目\">関連項目</span><span class=\"mw-editsection\"><span class=\"mw-editsection-bracket\">[</span><a href=\"/w/index.php?title=%E3%83%97%E3%83%AD%E3%82%B0%E3%83%A9%E3%83%9F%E3%83%B3%E3%82%B0%E8%A8%80%E8%AA%9E%E4%B8%80%E8%A6%A7&amp;action=edit&amp;section=37\" title=\"節を編集: 関連項目\">編集</a><span class=\"mw-editsection-bracket\">]</span></span></h2>\n",
      "True\n"
     ]
    }
   ],
   "source": [
    "headline = headlines[-2]\n",
    "for sibling in headline.parent.next_siblings:\n",
    "    print(sibling)\n",
    "    if sibling.name == \"ul\":\n",
    "        anchor = sibling\n",
    "        break            \n",
    "    if str(sibling).find(\"mw-headline\") >= 0: # 次のheadline\n",
    "        anchor = None\n",
    "        break\n",
    "print(anchor is None)\n"
   ]
  },
  {
   "cell_type": "code",
   "execution_count": 109,
   "metadata": {},
   "outputs": [
    {
     "name": "stdout",
     "output_type": "stream",
     "text": [
      "<span class=\"mw-headline\" id=\"A\">A</span>\n",
      "16\n",
      "<span class=\"mw-headline\" id=\"B\">B</span>\n",
      "29\n",
      "<span class=\"mw-headline\" id=\"C\">C</span>\n",
      "60\n",
      "<span class=\"mw-headline\" id=\"D\">D</span>\n",
      "65\n",
      "<span class=\"mw-headline\" id=\"E\">E</span>\n",
      "74\n",
      "<span class=\"mw-headline\" id=\"F\">F</span>\n",
      "86\n",
      "<span class=\"mw-headline\" id=\"G\">G</span>\n",
      "91\n",
      "<span class=\"mw-headline\" id=\"H\">H</span>\n",
      "103\n",
      "<span class=\"mw-headline\" id=\"I\">I</span>\n",
      "113\n",
      "<span class=\"mw-headline\" id=\"J\">J</span>\n",
      "123\n",
      "<span class=\"mw-headline\" id=\"K\">K</span>\n",
      "128\n",
      "<span class=\"mw-headline\" id=\"L\">L</span>\n",
      "141\n",
      "<span class=\"mw-headline\" id=\"M\">M</span>\n",
      "163\n",
      "<span class=\"mw-headline\" id=\"N\">N</span>\n",
      "169\n",
      "<span class=\"mw-headline\" id=\"O\">O</span>\n",
      "180\n",
      "<span class=\"mw-headline\" id=\"P\">P</span>\n",
      "204\n",
      "<span class=\"mw-headline\" id=\"Q\">Q</span>\n",
      "204\n",
      "<span class=\"mw-headline\" id=\"R\">R</span>\n",
      "216\n",
      "<span class=\"mw-headline\" id=\"S\">S</span>\n",
      "241\n",
      "<span class=\"mw-headline\" id=\"T\">T</span>\n",
      "251\n",
      "<span class=\"mw-headline\" id=\"U\">U</span>\n",
      "254\n",
      "<span class=\"mw-headline\" id=\"V\">V</span>\n",
      "263\n",
      "<span class=\"mw-headline\" id=\"W\">W</span>\n",
      "267\n",
      "<span class=\"mw-headline\" id=\"X\">X</span>\n",
      "270\n",
      "<span class=\"mw-headline\" id=\"Z\">Z</span>\n",
      "271\n",
      "<span class=\"mw-headline\" id=\"か行\">か行</span>\n",
      "271\n",
      "<span class=\"mw-headline\" id=\"さ行\">さ行</span>\n",
      "271\n",
      "<span class=\"mw-headline\" id=\"た行\">た行</span>\n",
      "272\n",
      "<span class=\"mw-headline\" id=\"な行\">な行</span>\n",
      "273\n",
      "<span class=\"mw-headline\" id=\"は行\">は行</span>\n",
      "276\n"
     ]
    }
   ],
   "source": [
    "urls = {}\n",
    "for headline in headlines:\n",
    "    if headline.text.find(\"関連項目\") >= 0:\n",
    "        continue\n",
    "\n",
    "    # ulを探す\n",
    "    anchor = None\n",
    "    for sibling in headline.parent.next_siblings:\n",
    "        if sibling.name == \"ul\":\n",
    "            anchor = sibling\n",
    "            break            \n",
    "        if str(sibling).find(\"mw-headline\") >= 0: # 次のheadline\n",
    "            anchor = None\n",
    "            break\n",
    "    if anchor is None:\n",
    "        continue\n",
    "    for element in anchor.findChildren(\"li\"):\n",
    "        a = element.findChild(\"a\")\n",
    "        if (a is None) or (a[\"href\"].find(\"edit\") >= 0): #記事がない\n",
    "            continue\n",
    "        if element.text.find(\"mw-headline\") >= 0: # 次のheadline\n",
    "            continue\n",
    "            \n",
    "        # print(\"\\n\")\n",
    "        # print(element)\n",
    "        # print(a[\"href\"])\n",
    "        urls[element.text] = a[\"href\"]\n",
    "        # if str(element).find(\"mw-headline\") >= 0:\n",
    "        #     break\n",
    "        # for t in element.text.split(\"\\n\"):\n",
    "        #     print(t)\n",
    "    print(headline)\n",
    "    print(len(urls))\n"
   ]
  },
  {
   "cell_type": "code",
   "execution_count": 36,
   "metadata": {},
   "outputs": [],
   "source": [
    "import urllib.parse"
   ]
  },
  {
   "cell_type": "code",
   "execution_count": 125,
   "metadata": {},
   "outputs": [],
   "source": [
    "response = requests.get(\"http://ja.wikipedia.org/wiki/A+\")"
   ]
  },
  {
   "cell_type": "code",
   "execution_count": 127,
   "metadata": {},
   "outputs": [
    {
     "data": {
      "text/plain": [
       "[<Response [301]>]"
      ]
     },
     "execution_count": 127,
     "metadata": {},
     "output_type": "execute_result"
    }
   ],
   "source": [
    "response.history"
   ]
  },
  {
   "cell_type": "code",
   "execution_count": 120,
   "metadata": {},
   "outputs": [],
   "source": [
    "response = requests.get('http://ja.wikipedia.org/wiki/A_(%E3%83%97%E3%83%AD%E3%82%B0%E3%83%A9%E3%83%9F%E3%83%B3%E3%82%B0%E8%A8%80%E8%AA%9E)', allow_redirects=False)"
   ]
  },
  {
   "cell_type": "code",
   "execution_count": 128,
   "metadata": {},
   "outputs": [],
   "source": [
    "response = requests.get('https://ja.wikipedia.org/wiki/A_(%E3%83%97%E3%83%AD%E3%82%B0%E3%83%A9%E3%83%9F%E3%83%B3%E3%82%B0%E8%A8%80%E8%AA%9E)')"
   ]
  },
  {
   "cell_type": "code",
   "execution_count": 130,
   "metadata": {},
   "outputs": [
    {
     "data": {
      "text/plain": [
       "<title>Brainfuck - Wikipedia</title>"
      ]
     },
     "execution_count": 130,
     "metadata": {},
     "output_type": "execute_result"
    }
   ],
   "source": [
    "BeautifulSoup(response.content).find(\"title\")"
   ]
  },
  {
   "cell_type": "code",
   "execution_count": 141,
   "metadata": {},
   "outputs": [],
   "source": [
    "data = {}"
   ]
  },
  {
   "cell_type": "code",
   "execution_count": 142,
   "metadata": {},
   "outputs": [
    {
     "name": "stderr",
     "output_type": "stream",
     "text": [
      "100%|██████████| 276/276 [02:53<00:00,  1.59it/s]\n"
     ]
    }
   ],
   "source": [
    "for key, url in tqdm(list(urls.items())):\n",
    "    filepath = f'{key.replace(\"/\", \"_\")}.json'\n",
    "    if filepath in data:\n",
    "        continue\n",
    "    response = requests.get(f'https://ja.wikipedia.org/{url}')\n",
    "    soup = BeautifulSoup(response.content)\n",
    "    # print(soup.find(\"title\"), key, soup.find(\"title\").text.find(key))\n",
    "    if soup.find(\"title\").text.find(key) == -1: #独立したページがない\n",
    "        continue\n",
    "    texts_newlines = soup.find(class_=\"mw-body-content\").text.split(\"\\n\")\n",
    "    texts = []\n",
    "    for text_newline in texts_newlines:\n",
    "        for text in text_newline.split(\"。\"):\n",
    "            if len(text):\n",
    "                texts.append(text)\n",
    "    json.dump(dict(\n",
    "        url=url,\n",
    "        name=key,\n",
    "        texts=texts,\n",
    "    ), (datapath / filepath).open('w+'))\n",
    "\n",
    "    data[filepath] = dict(\n",
    "        url=url,\n",
    "        name=key,\n",
    "        texts=texts,\n",
    "    )\n",
    "    "
   ]
  },
  {
   "cell_type": "code",
   "execution_count": 143,
   "metadata": {},
   "outputs": [],
   "source": [
    "import sys"
   ]
  },
  {
   "cell_type": "code",
   "execution_count": 145,
   "metadata": {},
   "outputs": [],
   "source": [
    "sys.path.append(\"..\")"
   ]
  },
  {
   "cell_type": "code",
   "execution_count": 147,
   "metadata": {},
   "outputs": [],
   "source": [
    "import importlib"
   ]
  },
  {
   "cell_type": "code",
   "execution_count": 160,
   "metadata": {},
   "outputs": [
    {
     "data": {
      "text/plain": [
       "<module 'llmakinator' from '/Users/keisuke.ogaki/ghq/github.com/Hi-king/chatgpt_akinator/notebooks/../llmakinator/__init__.py'>"
      ]
     },
     "execution_count": 160,
     "metadata": {},
     "output_type": "execute_result"
    }
   ],
   "source": [
    "importlib.reload(llmakinator)"
   ]
  },
  {
   "cell_type": "code",
   "execution_count": 146,
   "metadata": {},
   "outputs": [],
   "source": [
    "import llmakinator"
   ]
  },
  {
   "cell_type": "code",
   "execution_count": 149,
   "metadata": {},
   "outputs": [],
   "source": [
    "data_restricted = {\n",
    "    key: dict(\n",
    "        name=datum[\"name\"],\n",
    "        text=llmakinator.preprocess.filter_first_k_texts(datum[\"texts\"], 500)  \n",
    "    ) for key, datum in data.items()\n",
    "}"
   ]
  },
  {
   "cell_type": "code",
   "execution_count": 151,
   "metadata": {},
   "outputs": [],
   "source": [
    "import random\n",
    "random_samples = random.sample(list(data_restricted.values()), 7)"
   ]
  },
  {
   "cell_type": "code",
   "execution_count": 166,
   "metadata": {},
   "outputs": [
    {
     "name": "stdout",
     "output_type": "stream",
     "text": [
      "[\n",
      "    \"オブジェクト指向言語ですか？\",\n",
      "    \"関数型言語ですか？\",\n",
      "    \"手続き型言語ですか？\",\n",
      "    \"静的型付け言語ですか？\",\n",
      "    \"動的型付け言語ですか？\",\n",
      "    \"コンパイル言語ですか？\",\n",
      "    \"インタプリタ言語ですか？\",\n",
      "    \"マルチパラダイム言語ですか？\",\n",
      "    \"ガベージコレクション機能がありますか？\",\n",
      "    \"クロスプラットフォームですか？\",\n",
      "    \"シェーディング言語ですか？\",\n",
      "    \"統計解析に特化した言語ですか？\",\n",
      "    \"グラフィカルユーザインターフェイスの開発に適していますか？\",\n",
      "    \"数学的な処理に適していますか？\",\n",
      "    \"Web開発に適していますか？\",\n",
      "    \"並列処理に適していますか？\",\n",
      "    \"マクロ機能がありますか？\",\n",
      "    \"オープンソースですか？\",\n",
      "    \"商用ライセンスが必要ですか？\",\n",
      "    \"日本語のドキュメントが充実していますか？\"\n",
      "]\n"
     ]
    }
   ],
   "source": [
    "questions = llmakinator.questions.generate_questions(\n",
    "    world = 'プログラミング言語',\n",
    "    data = random_samples,\n",
    "    question_num = 20,    \n",
    ")"
   ]
  },
  {
   "cell_type": "code",
   "execution_count": 167,
   "metadata": {},
   "outputs": [],
   "source": [
    "questions"
   ]
  },
  {
   "cell_type": "code",
   "execution_count": 159,
   "metadata": {},
   "outputs": [],
   "source": [
    "dumppath = rootpath / 'qanda'\n",
    "dumppath.mkdir(exist_ok=True)"
   ]
  },
  {
   "cell_type": "code",
   "execution_count": 162,
   "metadata": {},
   "outputs": [],
   "source": [
    "data_with_qanda = copy.deepcopy(data_restricted)"
   ]
  },
  {
   "cell_type": "code",
   "execution_count": 168,
   "metadata": {},
   "outputs": [
    {
     "name": "stderr",
     "output_type": "stream",
     "text": [
      "\n",
      "\n",
      "\u001b[A\u001b[A\n",
      "\n",
      " 11%|█▏        | 24/213 [01:25<11:13,  3.56s/it]\n"
     ]
    },
    {
     "ename": "TypeError",
     "evalue": "'NoneType' object is not iterable",
     "output_type": "error",
     "traceback": [
      "\u001b[0;31m---------------------------------------------------------------------------\u001b[0m",
      "\u001b[0;31m_RemoteTraceback\u001b[0m                          Traceback (most recent call last)",
      "\u001b[0;31m_RemoteTraceback\u001b[0m: \n\"\"\"\nTraceback (most recent call last):\n  File \"/Users/keisuke.ogaki/ghq/github.com/Hi-king/chatgpt_akinator/.venv/lib/python3.10/site-packages/joblib/externals/loky/process_executor.py\", line 428, in _process_worker\n    r = call_item()\n  File \"/Users/keisuke.ogaki/ghq/github.com/Hi-king/chatgpt_akinator/.venv/lib/python3.10/site-packages/joblib/externals/loky/process_executor.py\", line 275, in __call__\n    return self.fn(*self.args, **self.kwargs)\n  File \"/Users/keisuke.ogaki/ghq/github.com/Hi-king/chatgpt_akinator/.venv/lib/python3.10/site-packages/joblib/_parallel_backends.py\", line 620, in __call__\n    return self.func(*args, **kwargs)\n  File \"/Users/keisuke.ogaki/ghq/github.com/Hi-king/chatgpt_akinator/.venv/lib/python3.10/site-packages/joblib/parallel.py\", line 288, in __call__\n    return [func(*args, **kwargs)\n  File \"/Users/keisuke.ogaki/ghq/github.com/Hi-king/chatgpt_akinator/.venv/lib/python3.10/site-packages/joblib/parallel.py\", line 288, in <listcomp>\n    return [func(*args, **kwargs)\n  File \"/var/folders/w_/xq5vq6l57rbb4586wpzfmxzw0000gs/T/ipykernel_3272/4087186910.py\", line 5, in qandq_each\n  File \"/Users/keisuke.ogaki/ghq/github.com/Hi-king/chatgpt_akinator/notebooks/../llmakinator/answers.py\", line 42, in answer_datum\n    for question in questions:\nTypeError: 'NoneType' object is not iterable\n\"\"\"",
      "\nThe above exception was the direct cause of the following exception:\n",
      "\u001b[0;31mTypeError\u001b[0m                                 Traceback (most recent call last)",
      "Cell \u001b[0;32mIn[168], line 15\u001b[0m\n\u001b[1;32m     12\u001b[0m     data_with_qanda[key][\u001b[38;5;124m'\u001b[39m\u001b[38;5;124mqanda\u001b[39m\u001b[38;5;124m'\u001b[39m] \u001b[38;5;241m=\u001b[39m df_qanda\u001b[38;5;241m.\u001b[39mto_dict(orient\u001b[38;5;241m=\u001b[39m\u001b[38;5;124m\"\u001b[39m\u001b[38;5;124mlist\u001b[39m\u001b[38;5;124m\"\u001b[39m)\n\u001b[1;32m     13\u001b[0m     json\u001b[38;5;241m.\u001b[39mdump(data_with_qanda[key], (dumppath \u001b[38;5;241m/\u001b[39m key)\u001b[38;5;241m.\u001b[39mopen(\u001b[38;5;124m\"\u001b[39m\u001b[38;5;124mw+\u001b[39m\u001b[38;5;124m\"\u001b[39m))\n\u001b[0;32m---> 15\u001b[0m results \u001b[38;5;241m=\u001b[39m \u001b[43mParallel\u001b[49m\u001b[43m(\u001b[49m\u001b[43mn_jobs\u001b[49m\u001b[38;5;241;43m=\u001b[39;49m\u001b[38;5;241;43m5\u001b[39;49m\u001b[43m)\u001b[49m\u001b[43m(\u001b[49m\n\u001b[1;32m     16\u001b[0m \u001b[43m    \u001b[49m\u001b[43mqandq_each\u001b[49m\u001b[43m(\u001b[49m\u001b[43mkey\u001b[49m\u001b[43m,\u001b[49m\u001b[43m \u001b[49m\u001b[43mdatum\u001b[49m\u001b[43m)\u001b[49m\u001b[43m \u001b[49m\u001b[38;5;28;43;01mfor\u001b[39;49;00m\u001b[43m \u001b[49m\u001b[43mkey\u001b[49m\u001b[43m,\u001b[49m\u001b[43m \u001b[49m\u001b[43mdatum\u001b[49m\u001b[43m \u001b[49m\u001b[38;5;129;43;01min\u001b[39;49;00m\u001b[43m \u001b[49m\u001b[43mtqdm\u001b[49m\u001b[43m(\u001b[49m\u001b[38;5;28;43mlist\u001b[39;49m\u001b[43m(\u001b[49m\u001b[43mdata_restricted\u001b[49m\u001b[38;5;241;43m.\u001b[39;49m\u001b[43mitems\u001b[49m\u001b[43m(\u001b[49m\u001b[43m)\u001b[49m\u001b[43m)\u001b[49m\u001b[43m)\u001b[49m\n\u001b[1;32m     17\u001b[0m \u001b[43m)\u001b[49m\n",
      "File \u001b[0;32m~/ghq/github.com/Hi-king/chatgpt_akinator/.venv/lib/python3.10/site-packages/joblib/parallel.py:1098\u001b[0m, in \u001b[0;36mParallel.__call__\u001b[0;34m(self, iterable)\u001b[0m\n\u001b[1;32m   1095\u001b[0m     \u001b[39mself\u001b[39m\u001b[39m.\u001b[39m_iterating \u001b[39m=\u001b[39m \u001b[39mFalse\u001b[39;00m\n\u001b[1;32m   1097\u001b[0m \u001b[39mwith\u001b[39;00m \u001b[39mself\u001b[39m\u001b[39m.\u001b[39m_backend\u001b[39m.\u001b[39mretrieval_context():\n\u001b[0;32m-> 1098\u001b[0m     \u001b[39mself\u001b[39;49m\u001b[39m.\u001b[39;49mretrieve()\n\u001b[1;32m   1099\u001b[0m \u001b[39m# Make sure that we get a last message telling us we are done\u001b[39;00m\n\u001b[1;32m   1100\u001b[0m elapsed_time \u001b[39m=\u001b[39m time\u001b[39m.\u001b[39mtime() \u001b[39m-\u001b[39m \u001b[39mself\u001b[39m\u001b[39m.\u001b[39m_start_time\n",
      "File \u001b[0;32m~/ghq/github.com/Hi-king/chatgpt_akinator/.venv/lib/python3.10/site-packages/joblib/parallel.py:975\u001b[0m, in \u001b[0;36mParallel.retrieve\u001b[0;34m(self)\u001b[0m\n\u001b[1;32m    973\u001b[0m \u001b[39mtry\u001b[39;00m:\n\u001b[1;32m    974\u001b[0m     \u001b[39mif\u001b[39;00m \u001b[39mgetattr\u001b[39m(\u001b[39mself\u001b[39m\u001b[39m.\u001b[39m_backend, \u001b[39m'\u001b[39m\u001b[39msupports_timeout\u001b[39m\u001b[39m'\u001b[39m, \u001b[39mFalse\u001b[39;00m):\n\u001b[0;32m--> 975\u001b[0m         \u001b[39mself\u001b[39m\u001b[39m.\u001b[39m_output\u001b[39m.\u001b[39mextend(job\u001b[39m.\u001b[39;49mget(timeout\u001b[39m=\u001b[39;49m\u001b[39mself\u001b[39;49m\u001b[39m.\u001b[39;49mtimeout))\n\u001b[1;32m    976\u001b[0m     \u001b[39melse\u001b[39;00m:\n\u001b[1;32m    977\u001b[0m         \u001b[39mself\u001b[39m\u001b[39m.\u001b[39m_output\u001b[39m.\u001b[39mextend(job\u001b[39m.\u001b[39mget())\n",
      "File \u001b[0;32m~/ghq/github.com/Hi-king/chatgpt_akinator/.venv/lib/python3.10/site-packages/joblib/_parallel_backends.py:567\u001b[0m, in \u001b[0;36mLokyBackend.wrap_future_result\u001b[0;34m(future, timeout)\u001b[0m\n\u001b[1;32m    564\u001b[0m \u001b[39m\u001b[39m\u001b[39m\"\"\"Wrapper for Future.result to implement the same behaviour as\u001b[39;00m\n\u001b[1;32m    565\u001b[0m \u001b[39mAsyncResults.get from multiprocessing.\"\"\"\u001b[39;00m\n\u001b[1;32m    566\u001b[0m \u001b[39mtry\u001b[39;00m:\n\u001b[0;32m--> 567\u001b[0m     \u001b[39mreturn\u001b[39;00m future\u001b[39m.\u001b[39;49mresult(timeout\u001b[39m=\u001b[39;49mtimeout)\n\u001b[1;32m    568\u001b[0m \u001b[39mexcept\u001b[39;00m CfTimeoutError \u001b[39mas\u001b[39;00m e:\n\u001b[1;32m    569\u001b[0m     \u001b[39mraise\u001b[39;00m \u001b[39mTimeoutError\u001b[39;00m \u001b[39mfrom\u001b[39;00m \u001b[39me\u001b[39;00m\n",
      "File \u001b[0;32m~/.pyenv/versions/3.10.4/lib/python3.10/concurrent/futures/_base.py:446\u001b[0m, in \u001b[0;36mFuture.result\u001b[0;34m(self, timeout)\u001b[0m\n\u001b[1;32m    444\u001b[0m     \u001b[39mraise\u001b[39;00m CancelledError()\n\u001b[1;32m    445\u001b[0m \u001b[39melif\u001b[39;00m \u001b[39mself\u001b[39m\u001b[39m.\u001b[39m_state \u001b[39m==\u001b[39m FINISHED:\n\u001b[0;32m--> 446\u001b[0m     \u001b[39mreturn\u001b[39;00m \u001b[39mself\u001b[39;49m\u001b[39m.\u001b[39;49m__get_result()\n\u001b[1;32m    447\u001b[0m \u001b[39melse\u001b[39;00m:\n\u001b[1;32m    448\u001b[0m     \u001b[39mraise\u001b[39;00m \u001b[39mTimeoutError\u001b[39;00m()\n",
      "File \u001b[0;32m~/.pyenv/versions/3.10.4/lib/python3.10/concurrent/futures/_base.py:391\u001b[0m, in \u001b[0;36mFuture.__get_result\u001b[0;34m(self)\u001b[0m\n\u001b[1;32m    389\u001b[0m \u001b[39mif\u001b[39;00m \u001b[39mself\u001b[39m\u001b[39m.\u001b[39m_exception:\n\u001b[1;32m    390\u001b[0m     \u001b[39mtry\u001b[39;00m:\n\u001b[0;32m--> 391\u001b[0m         \u001b[39mraise\u001b[39;00m \u001b[39mself\u001b[39m\u001b[39m.\u001b[39m_exception\n\u001b[1;32m    392\u001b[0m     \u001b[39mfinally\u001b[39;00m:\n\u001b[1;32m    393\u001b[0m         \u001b[39m# Break a reference cycle with the exception in self._exception\u001b[39;00m\n\u001b[1;32m    394\u001b[0m         \u001b[39mself\u001b[39m \u001b[39m=\u001b[39m \u001b[39mNone\u001b[39;00m\n",
      "\u001b[0;31mTypeError\u001b[0m: 'NoneType' object is not iterable"
     ]
    }
   ],
   "source": [
    "@delayed\n",
    "def qandq_each(key: str, datum):\n",
    "    if 'qanda' in data_with_qanda[key]:\n",
    "        return\n",
    "    answer = llmakinator.answers.answer_datum(\n",
    "        datum=datum, \n",
    "        questions=questions, \n",
    "        world='プログラミング言語'\n",
    "    )\n",
    "    \n",
    "    df_qanda = pd.DataFrame(answer).assign(**{\"質問\": questions})\n",
    "    data_with_qanda[key]['qanda'] = df_qanda.to_dict(orient=\"list\")\n",
    "    json.dump(data_with_qanda[key], (dumppath / key).open(\"w+\"))\n",
    "\n",
    "results = Parallel(n_jobs=5)(\n",
    "    qandq_each(key, datum) for key, datum in tqdm(list(data_restricted.items()))\n",
    ")"
   ]
  },
  {
   "cell_type": "code",
   "execution_count": null,
   "metadata": {},
   "outputs": [],
   "source": []
  },
  {
   "cell_type": "code",
   "execution_count": null,
   "metadata": {},
   "outputs": [],
   "source": []
  },
  {
   "cell_type": "code",
   "execution_count": null,
   "metadata": {},
   "outputs": [],
   "source": []
  }
 ],
 "metadata": {
  "kernelspec": {
   "display_name": "Python 3.10.4 ('.venv': poetry)",
   "language": "python",
   "name": "python3"
  },
  "language_info": {
   "codemirror_mode": {
    "name": "ipython",
    "version": 3
   },
   "file_extension": ".py",
   "mimetype": "text/x-python",
   "name": "python",
   "nbconvert_exporter": "python",
   "pygments_lexer": "ipython3",
   "version": "3.10.4"
  },
  "orig_nbformat": 4,
  "vscode": {
   "interpreter": {
    "hash": "93866057df8b3846bb614f91640f4c3012243401c86743ee53211c5ff172eecd"
   }
  }
 },
 "nbformat": 4,
 "nbformat_minor": 2
}
